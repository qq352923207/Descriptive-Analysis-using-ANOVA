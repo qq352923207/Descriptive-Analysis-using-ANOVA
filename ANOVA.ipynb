{
  "nbformat": 4,
  "nbformat_minor": 0,
  "metadata": {
    "colab": {
      "name": "ANOVA.ipynb",
      "provenance": [],
      "collapsed_sections": []
    },
    "kernelspec": {
      "name": "python3",
      "display_name": "Python 3"
    }
  },
  "cells": [
    {
      "cell_type": "code",
      "metadata": {
        "id": "xhaEcSG8vV0t"
      },
      "source": [
        "import pandas as pd\n",
        "import numpy as np\n",
        "import seaborn as sns\n",
        "import matplotlib.pyplot as plt\n"
      ],
      "execution_count": null,
      "outputs": []
    },
    {
      "cell_type": "code",
      "metadata": {
        "id": "6mC0cJvcvurj"
      },
      "source": [
        "##Please modify the path for reading the file##\n",
        "df = pd.read_csv('/content/drive/My Drive/Meng/MIE1624/clean_kaggle_data.csv')"
      ],
      "execution_count": null,
      "outputs": []
    },
    {
      "cell_type": "markdown",
      "metadata": {
        "id": "eIeSRLAzmxgi"
      },
      "source": [
        "## **1.Exploratory Data Analysis(EDA)**"
      ]
    },
    {
      "cell_type": "markdown",
      "metadata": {
        "id": "n1r615U8yYD2"
      },
      "source": [
        "\n",
        "\n",
        "Characteristics of the dataset:\n",
        "1. The dataset has 12497 rows and 247 columns\n",
        "2. The dataset has the size of approximately 23.6 MB\n",
        "3. Data types contain integers, strings and NaN. Some may need modification/encoding during analysis\n",
        "4. Age: The survey contain the most age group is:25-29, followed by 30-39.\n",
        "5. Gender: More than 80% who took the survey are male\n",
        "6. Country:The top three countries are India, USA, Brazil\n",
        "7. Education: Over 40% of the people who took the survey have a master's degree as their highest level of education, followed by around 30% of Bachelor's degree\n",
        "8. Professional experience: The top 3 professional experiences are Data Scientist, Software Engineer and Data Analyst\n",
        "9. Salary: Ranging from $1000 to $500,000 USD, with a median value of $50,000"
      ]
    },
    {
      "cell_type": "code",
      "metadata": {
        "id": "Eu3lZMClwEQT",
        "outputId": "102434dc-4206-413b-b2d3-ec89fbb14f51",
        "colab": {
          "base_uri": "https://localhost:8080/",
          "height": 498
        }
      },
      "source": [
        "#Taking a look at the dataset.\n",
        "df.head(3)"
      ],
      "execution_count": null,
      "outputs": [
        {
          "output_type": "execute_result",
          "data": {
            "text/html": [
              "<div>\n",
              "<style scoped>\n",
              "    .dataframe tbody tr th:only-of-type {\n",
              "        vertical-align: middle;\n",
              "    }\n",
              "\n",
              "    .dataframe tbody tr th {\n",
              "        vertical-align: top;\n",
              "    }\n",
              "\n",
              "    .dataframe thead th {\n",
              "        text-align: right;\n",
              "    }\n",
              "</style>\n",
              "<table border=\"1\" class=\"dataframe\">\n",
              "  <thead>\n",
              "    <tr style=\"text-align: right;\">\n",
              "      <th></th>\n",
              "      <th>Unnamed: 0</th>\n",
              "      <th>Time from Start to Finish (seconds)</th>\n",
              "      <th>Q1</th>\n",
              "      <th>Q2</th>\n",
              "      <th>Q2_OTHER_TEXT</th>\n",
              "      <th>Q3</th>\n",
              "      <th>Q4</th>\n",
              "      <th>Q5</th>\n",
              "      <th>Q5_OTHER_TEXT</th>\n",
              "      <th>Q6</th>\n",
              "      <th>Q7</th>\n",
              "      <th>Q8</th>\n",
              "      <th>Q9_Part_1</th>\n",
              "      <th>Q9_Part_2</th>\n",
              "      <th>Q9_Part_3</th>\n",
              "      <th>Q9_Part_4</th>\n",
              "      <th>Q9_Part_5</th>\n",
              "      <th>Q9_Part_6</th>\n",
              "      <th>Q9_Part_7</th>\n",
              "      <th>Q9_Part_8</th>\n",
              "      <th>Q9_OTHER_TEXT</th>\n",
              "      <th>Q10</th>\n",
              "      <th>Q11</th>\n",
              "      <th>Q12_Part_1</th>\n",
              "      <th>Q12_Part_2</th>\n",
              "      <th>Q12_Part_3</th>\n",
              "      <th>Q12_Part_4</th>\n",
              "      <th>Q12_Part_5</th>\n",
              "      <th>Q12_Part_6</th>\n",
              "      <th>Q12_Part_7</th>\n",
              "      <th>Q12_Part_8</th>\n",
              "      <th>Q12_Part_9</th>\n",
              "      <th>Q12_Part_10</th>\n",
              "      <th>Q12_Part_11</th>\n",
              "      <th>Q12_Part_12</th>\n",
              "      <th>Q12_OTHER_TEXT</th>\n",
              "      <th>Q13_Part_1</th>\n",
              "      <th>Q13_Part_2</th>\n",
              "      <th>Q13_Part_3</th>\n",
              "      <th>Q13_Part_4</th>\n",
              "      <th>...</th>\n",
              "      <th>Q31_OTHER_TEXT</th>\n",
              "      <th>Q32_Part_1</th>\n",
              "      <th>Q32_Part_2</th>\n",
              "      <th>Q32_Part_3</th>\n",
              "      <th>Q32_Part_4</th>\n",
              "      <th>Q32_Part_5</th>\n",
              "      <th>Q32_Part_6</th>\n",
              "      <th>Q32_Part_7</th>\n",
              "      <th>Q32_Part_8</th>\n",
              "      <th>Q32_Part_9</th>\n",
              "      <th>Q32_Part_10</th>\n",
              "      <th>Q32_Part_11</th>\n",
              "      <th>Q32_Part_12</th>\n",
              "      <th>Q32_OTHER_TEXT</th>\n",
              "      <th>Q33_Part_1</th>\n",
              "      <th>Q33_Part_2</th>\n",
              "      <th>Q33_Part_3</th>\n",
              "      <th>Q33_Part_4</th>\n",
              "      <th>Q33_Part_5</th>\n",
              "      <th>Q33_Part_6</th>\n",
              "      <th>Q33_Part_7</th>\n",
              "      <th>Q33_Part_8</th>\n",
              "      <th>Q33_Part_9</th>\n",
              "      <th>Q33_Part_10</th>\n",
              "      <th>Q33_Part_11</th>\n",
              "      <th>Q33_Part_12</th>\n",
              "      <th>Q33_OTHER_TEXT</th>\n",
              "      <th>Q34_Part_1</th>\n",
              "      <th>Q34_Part_2</th>\n",
              "      <th>Q34_Part_3</th>\n",
              "      <th>Q34_Part_4</th>\n",
              "      <th>Q34_Part_5</th>\n",
              "      <th>Q34_Part_6</th>\n",
              "      <th>Q34_Part_7</th>\n",
              "      <th>Q34_Part_8</th>\n",
              "      <th>Q34_Part_9</th>\n",
              "      <th>Q34_Part_10</th>\n",
              "      <th>Q34_Part_11</th>\n",
              "      <th>Q34_Part_12</th>\n",
              "      <th>Q34_OTHER_TEXT</th>\n",
              "    </tr>\n",
              "  </thead>\n",
              "  <tbody>\n",
              "    <tr>\n",
              "      <th>0</th>\n",
              "      <td>0</td>\n",
              "      <td>510</td>\n",
              "      <td>22-24</td>\n",
              "      <td>Male</td>\n",
              "      <td>-1</td>\n",
              "      <td>France</td>\n",
              "      <td>Master’s degree</td>\n",
              "      <td>Software Engineer</td>\n",
              "      <td>-1</td>\n",
              "      <td>1000-9,999 employees</td>\n",
              "      <td>0</td>\n",
              "      <td>I do not know</td>\n",
              "      <td>NaN</td>\n",
              "      <td>NaN</td>\n",
              "      <td>NaN</td>\n",
              "      <td>NaN</td>\n",
              "      <td>NaN</td>\n",
              "      <td>NaN</td>\n",
              "      <td>NaN</td>\n",
              "      <td>NaN</td>\n",
              "      <td>-1</td>\n",
              "      <td>40000</td>\n",
              "      <td>$0 (USD)</td>\n",
              "      <td>Twitter (data science influencers)</td>\n",
              "      <td>NaN</td>\n",
              "      <td>NaN</td>\n",
              "      <td>Kaggle (forums, blog, social media, etc)</td>\n",
              "      <td>NaN</td>\n",
              "      <td>NaN</td>\n",
              "      <td>NaN</td>\n",
              "      <td>Blogs (Towards Data Science, Medium, Analytics...</td>\n",
              "      <td>Journal Publications (traditional publications...</td>\n",
              "      <td>NaN</td>\n",
              "      <td>NaN</td>\n",
              "      <td>NaN</td>\n",
              "      <td>-1</td>\n",
              "      <td>NaN</td>\n",
              "      <td>Coursera</td>\n",
              "      <td>NaN</td>\n",
              "      <td>DataCamp</td>\n",
              "      <td>...</td>\n",
              "      <td>-1</td>\n",
              "      <td>NaN</td>\n",
              "      <td>NaN</td>\n",
              "      <td>NaN</td>\n",
              "      <td>NaN</td>\n",
              "      <td>NaN</td>\n",
              "      <td>NaN</td>\n",
              "      <td>NaN</td>\n",
              "      <td>NaN</td>\n",
              "      <td>NaN</td>\n",
              "      <td>NaN</td>\n",
              "      <td>NaN</td>\n",
              "      <td>NaN</td>\n",
              "      <td>-1</td>\n",
              "      <td>NaN</td>\n",
              "      <td>NaN</td>\n",
              "      <td>NaN</td>\n",
              "      <td>NaN</td>\n",
              "      <td>NaN</td>\n",
              "      <td>NaN</td>\n",
              "      <td>NaN</td>\n",
              "      <td>NaN</td>\n",
              "      <td>NaN</td>\n",
              "      <td>NaN</td>\n",
              "      <td>NaN</td>\n",
              "      <td>NaN</td>\n",
              "      <td>-1</td>\n",
              "      <td>NaN</td>\n",
              "      <td>NaN</td>\n",
              "      <td>NaN</td>\n",
              "      <td>NaN</td>\n",
              "      <td>NaN</td>\n",
              "      <td>NaN</td>\n",
              "      <td>NaN</td>\n",
              "      <td>NaN</td>\n",
              "      <td>NaN</td>\n",
              "      <td>NaN</td>\n",
              "      <td>NaN</td>\n",
              "      <td>NaN</td>\n",
              "      <td>-1</td>\n",
              "    </tr>\n",
              "    <tr>\n",
              "      <th>1</th>\n",
              "      <td>1</td>\n",
              "      <td>423</td>\n",
              "      <td>40-44</td>\n",
              "      <td>Male</td>\n",
              "      <td>-1</td>\n",
              "      <td>India</td>\n",
              "      <td>Professional degree</td>\n",
              "      <td>Software Engineer</td>\n",
              "      <td>-1</td>\n",
              "      <td>&gt; 10,000 employees</td>\n",
              "      <td>20+</td>\n",
              "      <td>We have well established ML methods (i.e., mod...</td>\n",
              "      <td>Analyze and understand data to influence produ...</td>\n",
              "      <td>Build and/or run the data infrastructure that ...</td>\n",
              "      <td>Build prototypes to explore applying machine l...</td>\n",
              "      <td>Build and/or run a machine learning service th...</td>\n",
              "      <td>NaN</td>\n",
              "      <td>NaN</td>\n",
              "      <td>NaN</td>\n",
              "      <td>NaN</td>\n",
              "      <td>-1</td>\n",
              "      <td>7500</td>\n",
              "      <td>&gt; $100,000 ($USD)</td>\n",
              "      <td>NaN</td>\n",
              "      <td>NaN</td>\n",
              "      <td>NaN</td>\n",
              "      <td>Kaggle (forums, blog, social media, etc)</td>\n",
              "      <td>NaN</td>\n",
              "      <td>YouTube (Cloud AI Adventures, Siraj Raval, etc)</td>\n",
              "      <td>Podcasts (Chai Time Data Science, Linear Digre...</td>\n",
              "      <td>Blogs (Towards Data Science, Medium, Analytics...</td>\n",
              "      <td>NaN</td>\n",
              "      <td>NaN</td>\n",
              "      <td>NaN</td>\n",
              "      <td>NaN</td>\n",
              "      <td>-1</td>\n",
              "      <td>NaN</td>\n",
              "      <td>Coursera</td>\n",
              "      <td>NaN</td>\n",
              "      <td>DataCamp</td>\n",
              "      <td>...</td>\n",
              "      <td>-1</td>\n",
              "      <td>NaN</td>\n",
              "      <td>NaN</td>\n",
              "      <td>NaN</td>\n",
              "      <td>NaN</td>\n",
              "      <td>NaN</td>\n",
              "      <td>NaN</td>\n",
              "      <td>NaN</td>\n",
              "      <td>NaN</td>\n",
              "      <td>NaN</td>\n",
              "      <td>NaN</td>\n",
              "      <td>NaN</td>\n",
              "      <td>NaN</td>\n",
              "      <td>-1</td>\n",
              "      <td>NaN</td>\n",
              "      <td>NaN</td>\n",
              "      <td>NaN</td>\n",
              "      <td>NaN</td>\n",
              "      <td>NaN</td>\n",
              "      <td>NaN</td>\n",
              "      <td>NaN</td>\n",
              "      <td>NaN</td>\n",
              "      <td>NaN</td>\n",
              "      <td>NaN</td>\n",
              "      <td>NaN</td>\n",
              "      <td>NaN</td>\n",
              "      <td>-1</td>\n",
              "      <td>NaN</td>\n",
              "      <td>NaN</td>\n",
              "      <td>NaN</td>\n",
              "      <td>NaN</td>\n",
              "      <td>NaN</td>\n",
              "      <td>NaN</td>\n",
              "      <td>NaN</td>\n",
              "      <td>NaN</td>\n",
              "      <td>NaN</td>\n",
              "      <td>NaN</td>\n",
              "      <td>NaN</td>\n",
              "      <td>NaN</td>\n",
              "      <td>-1</td>\n",
              "    </tr>\n",
              "    <tr>\n",
              "      <th>2</th>\n",
              "      <td>3</td>\n",
              "      <td>391</td>\n",
              "      <td>40-44</td>\n",
              "      <td>Male</td>\n",
              "      <td>-1</td>\n",
              "      <td>Australia</td>\n",
              "      <td>Master’s degree</td>\n",
              "      <td>Other</td>\n",
              "      <td>0</td>\n",
              "      <td>&gt; 10,000 employees</td>\n",
              "      <td>20+</td>\n",
              "      <td>I do not know</td>\n",
              "      <td>NaN</td>\n",
              "      <td>NaN</td>\n",
              "      <td>NaN</td>\n",
              "      <td>NaN</td>\n",
              "      <td>NaN</td>\n",
              "      <td>NaN</td>\n",
              "      <td>NaN</td>\n",
              "      <td>NaN</td>\n",
              "      <td>-1</td>\n",
              "      <td>300000</td>\n",
              "      <td>$10,000-$99,999</td>\n",
              "      <td>NaN</td>\n",
              "      <td>NaN</td>\n",
              "      <td>NaN</td>\n",
              "      <td>NaN</td>\n",
              "      <td>NaN</td>\n",
              "      <td>NaN</td>\n",
              "      <td>Podcasts (Chai Time Data Science, Linear Digre...</td>\n",
              "      <td>Blogs (Towards Data Science, Medium, Analytics...</td>\n",
              "      <td>Journal Publications (traditional publications...</td>\n",
              "      <td>Slack Communities (ods.ai, kagglenoobs, etc)</td>\n",
              "      <td>NaN</td>\n",
              "      <td>NaN</td>\n",
              "      <td>-1</td>\n",
              "      <td>NaN</td>\n",
              "      <td>Coursera</td>\n",
              "      <td>edX</td>\n",
              "      <td>DataCamp</td>\n",
              "      <td>...</td>\n",
              "      <td>-1</td>\n",
              "      <td>NaN</td>\n",
              "      <td>NaN</td>\n",
              "      <td>Azure Machine Learning Studio</td>\n",
              "      <td>NaN</td>\n",
              "      <td>NaN</td>\n",
              "      <td>NaN</td>\n",
              "      <td>NaN</td>\n",
              "      <td>NaN</td>\n",
              "      <td>NaN</td>\n",
              "      <td>NaN</td>\n",
              "      <td>NaN</td>\n",
              "      <td>NaN</td>\n",
              "      <td>-1</td>\n",
              "      <td>NaN</td>\n",
              "      <td>NaN</td>\n",
              "      <td>NaN</td>\n",
              "      <td>NaN</td>\n",
              "      <td>NaN</td>\n",
              "      <td>NaN</td>\n",
              "      <td>NaN</td>\n",
              "      <td>NaN</td>\n",
              "      <td>NaN</td>\n",
              "      <td>NaN</td>\n",
              "      <td>None</td>\n",
              "      <td>NaN</td>\n",
              "      <td>-1</td>\n",
              "      <td>NaN</td>\n",
              "      <td>NaN</td>\n",
              "      <td>NaN</td>\n",
              "      <td>NaN</td>\n",
              "      <td>NaN</td>\n",
              "      <td>NaN</td>\n",
              "      <td>NaN</td>\n",
              "      <td>NaN</td>\n",
              "      <td>Azure SQL Database</td>\n",
              "      <td>NaN</td>\n",
              "      <td>NaN</td>\n",
              "      <td>NaN</td>\n",
              "      <td>-1</td>\n",
              "    </tr>\n",
              "  </tbody>\n",
              "</table>\n",
              "<p>3 rows × 247 columns</p>\n",
              "</div>"
            ],
            "text/plain": [
              "   Unnamed: 0  Time from Start to Finish (seconds)  ... Q34_Part_12 Q34_OTHER_TEXT\n",
              "0           0                                  510  ...         NaN             -1\n",
              "1           1                                  423  ...         NaN             -1\n",
              "2           3                                  391  ...         NaN             -1\n",
              "\n",
              "[3 rows x 247 columns]"
            ]
          },
          "metadata": {
            "tags": []
          },
          "execution_count": 7
        }
      ]
    },
    {
      "cell_type": "code",
      "metadata": {
        "id": "STpZF0AqwUvu",
        "outputId": "6e4bd848-84d5-4125-c324-3ee3ed9ca51d",
        "colab": {
          "base_uri": "https://localhost:8080/",
          "height": 145
        }
      },
      "source": [
        "print('Shape of dataset:',df.shape)\n",
        "print(df.info())\n"
      ],
      "execution_count": null,
      "outputs": [
        {
          "output_type": "stream",
          "text": [
            "Shape of dataset: (12497, 247)\n",
            "<class 'pandas.core.frame.DataFrame'>\n",
            "RangeIndex: 12497 entries, 0 to 12496\n",
            "Columns: 247 entries, Unnamed: 0 to Q34_OTHER_TEXT\n",
            "dtypes: int64(31), object(216)\n",
            "memory usage: 23.6+ MB\n",
            "None\n"
          ],
          "name": "stdout"
        }
      ]
    },
    {
      "cell_type": "code",
      "metadata": {
        "id": "yg84_FRA2dSI",
        "outputId": "dbc33fc7-ce68-4dac-948b-de31c9f05634",
        "colab": {
          "base_uri": "https://localhost:8080/",
          "height": 198
        }
      },
      "source": [
        "#Consider Gender, Country, Age, Education, Professional Experience, and Salary. Create a new df consisting of these features\n",
        "df1 = df[['Q1','Q2','Q3','Q4','Q5','Q10']]\n",
        "df1 = df1.rename(columns = {'Q1':'age','Q2':'gender','Q3':'country','Q4':'education','Q5':'professional experience','Q10':'Salary'})\n",
        "df1.head()"
      ],
      "execution_count": null,
      "outputs": [
        {
          "output_type": "execute_result",
          "data": {
            "text/html": [
              "<div>\n",
              "<style scoped>\n",
              "    .dataframe tbody tr th:only-of-type {\n",
              "        vertical-align: middle;\n",
              "    }\n",
              "\n",
              "    .dataframe tbody tr th {\n",
              "        vertical-align: top;\n",
              "    }\n",
              "\n",
              "    .dataframe thead th {\n",
              "        text-align: right;\n",
              "    }\n",
              "</style>\n",
              "<table border=\"1\" class=\"dataframe\">\n",
              "  <thead>\n",
              "    <tr style=\"text-align: right;\">\n",
              "      <th></th>\n",
              "      <th>age</th>\n",
              "      <th>gender</th>\n",
              "      <th>country</th>\n",
              "      <th>education</th>\n",
              "      <th>professional experience</th>\n",
              "      <th>Salary</th>\n",
              "    </tr>\n",
              "  </thead>\n",
              "  <tbody>\n",
              "    <tr>\n",
              "      <th>0</th>\n",
              "      <td>22-24</td>\n",
              "      <td>Male</td>\n",
              "      <td>France</td>\n",
              "      <td>Master’s degree</td>\n",
              "      <td>Software Engineer</td>\n",
              "      <td>40000</td>\n",
              "    </tr>\n",
              "    <tr>\n",
              "      <th>1</th>\n",
              "      <td>40-44</td>\n",
              "      <td>Male</td>\n",
              "      <td>India</td>\n",
              "      <td>Professional degree</td>\n",
              "      <td>Software Engineer</td>\n",
              "      <td>7500</td>\n",
              "    </tr>\n",
              "    <tr>\n",
              "      <th>2</th>\n",
              "      <td>40-44</td>\n",
              "      <td>Male</td>\n",
              "      <td>Australia</td>\n",
              "      <td>Master’s degree</td>\n",
              "      <td>Other</td>\n",
              "      <td>300000</td>\n",
              "    </tr>\n",
              "    <tr>\n",
              "      <th>3</th>\n",
              "      <td>22-24</td>\n",
              "      <td>Male</td>\n",
              "      <td>India</td>\n",
              "      <td>Bachelor’s degree</td>\n",
              "      <td>Other</td>\n",
              "      <td>5000</td>\n",
              "    </tr>\n",
              "    <tr>\n",
              "      <th>4</th>\n",
              "      <td>50-54</td>\n",
              "      <td>Male</td>\n",
              "      <td>France</td>\n",
              "      <td>Master’s degree</td>\n",
              "      <td>Data Scientist</td>\n",
              "      <td>70000</td>\n",
              "    </tr>\n",
              "  </tbody>\n",
              "</table>\n",
              "</div>"
            ],
            "text/plain": [
              "     age gender    country            education professional experience  Salary\n",
              "0  22-24   Male     France      Master’s degree       Software Engineer   40000\n",
              "1  40-44   Male      India  Professional degree       Software Engineer    7500\n",
              "2  40-44   Male  Australia      Master’s degree                   Other  300000\n",
              "3  22-24   Male      India    Bachelor’s degree                   Other    5000\n",
              "4  50-54   Male     France      Master’s degree          Data Scientist   70000"
            ]
          },
          "metadata": {
            "tags": []
          },
          "execution_count": 44
        }
      ]
    },
    {
      "cell_type": "code",
      "metadata": {
        "id": "N-HyUI0YDUkH",
        "outputId": "7e66bffd-c2ac-4b3c-8ee2-b2831c68411c",
        "colab": {
          "base_uri": "https://localhost:8080/",
          "height": 279
        }
      },
      "source": [
        "#Use bar plot to find out percentage distributions in Country, Age, Education, Professional Experience, and Salary\n",
        "age = df1['age'].value_counts(normalize=True)  #count the percentage of occurance in the dateset for each category\n",
        "age = pd.DataFrame(age) # transform into dataframe  \n",
        "age.reset_index(level=0, inplace=True)  #Convert the age groups values from index to actualy data\n",
        "age.columns = ['Age','Percentage'] #name the columns in the dataframe\n",
        "age_plot = sns.barplot(x=age['Age'], y=age['Percentage']*100, data=age) #use barplot"
      ],
      "execution_count": null,
      "outputs": [
        {
          "output_type": "display_data",
          "data": {
            "image/png": "[encoded data removed]",
            "text/plain": [
              "<Figure size 432x288 with 1 Axes>"
            ]
          },
          "metadata": {
            "tags": [],
            "needs_background": "light"
          }
        }
      ]
    },
    {
      "cell_type": "code",
      "metadata": {
        "id": "CtOMvhHhIflP",
        "outputId": "d6d0f489-f14b-4bdb-96db-fb68a1d99779",
        "colab": {
          "base_uri": "https://localhost:8080/",
          "height": 279
        }
      },
      "source": [
        "gender = df1['gender'].value_counts(normalize=True)\n",
        "gender = pd.DataFrame(gender)\n",
        "gender.reset_index(level=0, inplace=True)\n",
        "gender.columns = ['gender','Percentage']\n",
        "gender_plot = sns.barplot(x=gender['gender'], y=gender['Percentage']*100, data=gender)"
      ],
      "execution_count": null,
      "outputs": [
        {
          "output_type": "display_data",
          "data": {
            "image/png": "[encoded data removed]",
            "text/plain": [
              "<Figure size 432x288 with 1 Axes>"
            ]
          },
          "metadata": {
            "tags": [],
            "needs_background": "light"
          }
        }
      ]
    },
    {
      "cell_type": "code",
      "metadata": {
        "id": "eHJnFVFoI42v",
        "outputId": "6efa2499-f278-451d-b792-17a4cccc2040",
        "colab": {
          "base_uri": "https://localhost:8080/",
          "height": 537
        }
      },
      "source": [
        "country = df1['country'].value_counts(normalize=True).head(25) #The list is too long, so only keep the top 25 countries\n",
        "country = pd.DataFrame(country)\n",
        "country.reset_index(level=0, inplace=True)\n",
        "country.columns = ['country','Percentage']\n",
        "country_plot = sns.barplot(x=country['country'], y=country['Percentage']*100, data=country,orient='v',dodge=False)\n",
        "for item in country_plot.get_xticklabels(): #rotate the x labels by 90 degrees to avoid text overlapping\n",
        "    item.set_rotation(90)"
      ],
      "execution_count": null,
      "outputs": [
        {
          "output_type": "display_data",
          "data": {
            "image/png": "[encoded data removed]",
            "text/plain": [
              "<Figure size 432x288 with 1 Axes>"
            ]
          },
          "metadata": {
            "tags": [],
            "needs_background": "light"
          }
        }
      ]
    },
    {
      "cell_type": "code",
      "metadata": {
        "id": "UYW64qI3MkFZ",
        "outputId": "d4cf1661-d4f0-42ec-fdfe-bb377260cd29",
        "colab": {
          "base_uri": "https://localhost:8080/",
          "height": 604
        }
      },
      "source": [
        "education = df1['education'].value_counts(normalize=True)\n",
        "education = pd.DataFrame(education)\n",
        "education.reset_index(level=0, inplace=True)\n",
        "education.columns = ['education','Percentage']\n",
        "education_plot = sns.barplot(x=education['education'], y=education['Percentage'], data=education)\n",
        "for item in education_plot.get_xticklabels(): #rotate the x labels by 90 degrees to avoid text overlapping\n",
        "    item.set_rotation(90)"
      ],
      "execution_count": null,
      "outputs": [
        {
          "output_type": "display_data",
          "data": {
            "image/png": "[encoded data removed]",
            "text/plain": [
              "<Figure size 432x288 with 1 Axes>"
            ]
          },
          "metadata": {
            "tags": [],
            "needs_background": "light"
          }
        }
      ]
    },
    {
      "cell_type": "code",
      "metadata": {
        "id": "0YT804m1NH2J",
        "outputId": "3e9b2e45-25bc-4928-cbfa-00d303c2b78e",
        "colab": {
          "base_uri": "https://localhost:8080/",
          "height": 392
        }
      },
      "source": [
        "profession = df1['professional experience'].value_counts(normalize=True)\n",
        "profession = pd.DataFrame(profession)\n",
        "profession.reset_index(level=0, inplace=True)\n",
        "profession.columns = ['profession','Percentage']\n",
        "profession_plot = sns.barplot(x=profession['profession'], y=profession['Percentage']*100, data=profession)\n",
        "for item in profession_plot.get_xticklabels(): #rotate the x labels by 90 degrees to avoid text overlapping\n",
        "    item.set_rotation(90)"
      ],
      "execution_count": null,
      "outputs": [
        {
          "output_type": "display_data",
          "data": {
            "image/png": "[encoded data removed]",
            "text/plain": [
              "<Figure size 432x288 with 1 Axes>"
            ]
          },
          "metadata": {
            "tags": [],
            "needs_background": "light"
          }
        }
      ]
    },
    {
      "cell_type": "code",
      "metadata": {
        "id": "N_c-tl0rObX0",
        "outputId": "90dff14f-28e0-43c3-d363-0803fb90ed0f",
        "colab": {
          "base_uri": "https://localhost:8080/",
          "height": 325
        }
      },
      "source": [
        "Salary = df1['Salary'].value_counts(normalize=True,)\n",
        "Salary = pd.DataFrame(Salary)\n",
        "Salary.reset_index(level=0, inplace=True)\n",
        "Salary.columns = ['Salary','Percentage']\n",
        "Salary_plot = sns.barplot(x=Salary['Salary'], y=Salary['Percentage']*100, data=Salary)\n",
        "for item in Salary_plot.get_xticklabels(): #rotate the x labels by 90 degrees to avoid text overlapping\n",
        "    item.set_rotation(90)\n",
        "print('median salary:',Salary['Salary'].median())"
      ],
      "execution_count": null,
      "outputs": [
        {
          "output_type": "stream",
          "text": [
            "median salary: 50000.0\n"
          ],
          "name": "stdout"
        },
        {
          "output_type": "display_data",
          "data": {
            "image/png": "[encoded data removed]",
            "text/plain": [
              "<Figure size 432x288 with 1 Axes>"
            ]
          },
          "metadata": {
            "tags": [],
            "needs_background": "light"
          }
        }
      ]
    },
    {
      "cell_type": "markdown",
      "metadata": {
        "id": "CH0Gglt7c8hu"
      },
      "source": [
        "**Discover 3 trends: Age, Education, Profession vs salary**\n",
        "\n",
        "1. **Trend Age vs Salary**: The older the person is, the more income he/she makes\n",
        "2. **Trend Education vs Salary**: In general, higher education causes higher income\n",
        "3. **Trend Profession vs Salary**: Management levels make the most income, followed by Data Scientists. Data Analysts have the lowest mean salary\n"
      ]
    },
    {
      "cell_type": "code",
      "metadata": {
        "id": "06cBIMOic5jD",
        "outputId": "7cb0562e-7968-4620-8e17-50edd5263247",
        "colab": {
          "base_uri": "https://localhost:8080/",
          "height": 282
        }
      },
      "source": [
        "#Age vs Salary\n",
        "age_unique = df1['age'].unique() #find unique values in the column\n",
        "y = []\n",
        "for i in age_unique:              #a loop for calculating the mean salary values for each group\n",
        "  dfs = df1.loc[df1['age'] == i]\n",
        "  y.append(dfs['Salary'].mean())\n",
        "df_age = pd.DataFrame(\n",
        "    {'age': age_unique,\n",
        "     'mean salary': y,\n",
        "    })\n",
        "df_age.sort_values(by='mean salary',ascending=False, inplace=True) #sort in descending order and plot\n",
        "age_salary_plot = sns.barplot(x=df_age['age'], y=df_age['mean salary'],data=df_age)"
      ],
      "execution_count": null,
      "outputs": [
        {
          "output_type": "display_data",
          "data": {
            "image/png": "[encoded data removed]",
            "text/plain": [
              "<Figure size 432x288 with 1 Axes>"
            ]
          },
          "metadata": {
            "tags": [],
            "needs_background": "light"
          }
        }
      ]
    },
    {
      "cell_type": "code",
      "metadata": {
        "id": "Oath8rVijyPY",
        "outputId": "ef708f73-f5da-44d0-948b-1841ae2b76c6",
        "colab": {
          "base_uri": "https://localhost:8080/",
          "height": 604
        }
      },
      "source": [
        "#Education vs Salary\n",
        "Education_unique = df1['education'].unique() #find unique values in the column\n",
        "y = []\n",
        "for i in Education_unique:              #a loop for calculating the mean salary values for each group\n",
        "  dfs = df1.loc[df1['education'] == i]\n",
        "  y.append(dfs['Salary'].mean())\n",
        "df_Education = pd.DataFrame(\n",
        "    {'Education': Education_unique,\n",
        "     'mean salary': y,\n",
        "    })\n",
        "df_Education.sort_values(by='mean salary',ascending=False, inplace=True) #sort in descending order and plot\n",
        "Education_salary_plot = sns.barplot(x=df_Education['Education'], y=df_Education['mean salary'],data=df_Education)\n",
        "for item in Education_salary_plot.get_xticklabels(): #rotate the x labels by 90 degrees to avoid text overlapping\n",
        "    item.set_rotation(90)"
      ],
      "execution_count": null,
      "outputs": [
        {
          "output_type": "display_data",
          "data": {
            "image/png": "[encoded data removed]",
            "text/plain": [
              "<Figure size 432x288 with 1 Axes>"
            ]
          },
          "metadata": {
            "tags": [],
            "needs_background": "light"
          }
        }
      ]
    },
    {
      "cell_type": "code",
      "metadata": {
        "id": "JvJs4OLSkfOQ",
        "outputId": "0108dde1-ac24-4525-d1b4-2fd661cb6ac0",
        "colab": {
          "base_uri": "https://localhost:8080/",
          "height": 392
        }
      },
      "source": [
        "#profession vs Salary\n",
        "profession_unique = df1['professional experience'].unique() #find unique values in the column\n",
        "y = []\n",
        "for i in profession_unique:              #a loop for calculating the mean salary values for each group\n",
        "  dfs = df1.loc[df1['professional experience'] == i]\n",
        "  y.append(dfs['Salary'].mean())\n",
        "df_profession = pd.DataFrame(\n",
        "    {'profession': profession_unique,\n",
        "     'mean salary': y,\n",
        "    })\n",
        "df_profession.sort_values(by='mean salary',ascending=False, inplace=True) #sort in descending order and plot\n",
        "profession_salary_plot = sns.barplot(x=df_profession['profession'], y=df_profession['mean salary'],data=df_profession)\n",
        "for item in profession_salary_plot.get_xticklabels(): #rotate the x labels by 90 degrees to avoid text overlapping\n",
        "    item.set_rotation(90)"
      ],
      "execution_count": null,
      "outputs": [
        {
          "output_type": "display_data",
          "data": {
            "image/png": "[encoded data removed]",
            "text/plain": [
              "<Figure size 432x288 with 1 Axes>"
            ]
          },
          "metadata": {
            "tags": [],
            "needs_background": "light"
          }
        }
      ]
    },
    {
      "cell_type": "markdown",
      "metadata": {
        "id": "FgfMKigunErM"
      },
      "source": [
        "## **2. Estimating the difference between average salary (Q10) of males vs. females.**"
      ]
    },
    {
      "cell_type": "code",
      "metadata": {
        "id": "E2uVtsa9RcTF",
        "outputId": "5120a6f7-5c5a-47fa-fb43-9e3a8ccde72e",
        "colab": {
          "base_uri": "https://localhost:8080/",
          "height": 381
        }
      },
      "source": [
        "#Compute and report descriptive statistics for each group (remove missing data, ifnecessary).\n",
        "#mean salary for male is 58709.586556 and female is 45933.771210\n",
        "#Other statistics are shown in the output\n",
        "df2 = df[['Q2','Q10']]\n",
        "df2 = df2.rename(columns = {'Q2':'gender','Q10':'Salary'})\n",
        "dfs_male= df2.loc[df2['gender'] == 'Male']\n",
        "print('Male\\n',dfs_male['Salary'].describe())\n",
        "dfs_female= df2.loc[df2['gender'] == 'Female']\n",
        "print('Female\\n',dfs_female['Salary'].describe())"
      ],
      "execution_count": null,
      "outputs": [
        {
          "output_type": "stream",
          "text": [
            "Male\n",
            " count     10473.000000\n",
            "mean      58709.586556\n",
            "std       74920.620048\n",
            "min        1000.000000\n",
            "25%        7500.000000\n",
            "50%       30000.000000\n",
            "75%       80000.000000\n",
            "max      500000.000000\n",
            "Name: Salary, dtype: float64\n",
            "Female\n",
            " count      1827.000000\n",
            "mean      45933.771210\n",
            "std       60253.789591\n",
            "min        1000.000000\n",
            "25%        3000.000000\n",
            "50%       20000.000000\n",
            "75%       70000.000000\n",
            "max      500000.000000\n",
            "Name: Salary, dtype: float64\n"
          ],
          "name": "stdout"
        }
      ]
    },
    {
      "cell_type": "code",
      "metadata": {
        "id": "ht6ZgbjTrw5j",
        "outputId": "a691ef3e-8341-4c38-ea5c-d233d680b6b9",
        "colab": {
          "base_uri": "https://localhost:8080/",
          "height": 54
        }
      },
      "source": [
        "#If suitable, perform a two-sample t-test with 0.05 threshold. Explain your rationale.\n",
        "#First, apply two-sample t-test directly on the dataset. \n",
        "#p value of 5.108938811599026e-12 indicates that there's nearly 0% probability that the test happened by chance\n",
        "#t value of 6.909 indicates that the two groups are 6.909 times as different from each other as they are within each other\n",
        "#indicating that there is an significance which suggests that salaries are affected by gender.\n",
        "from scipy import stats\n",
        "t, p = stats.ttest_ind(dfs_male['Salary'], dfs_female['Salary'])\n",
        "print('t value:{}\\np value:{}'.format(t,p))"
      ],
      "execution_count": null,
      "outputs": [
        {
          "output_type": "stream",
          "text": [
            "t value:6.909347703471073\n",
            "p value:5.108938811599026e-12\n"
          ],
          "name": "stdout"
        }
      ]
    },
    {
      "cell_type": "code",
      "metadata": {
        "id": "yM6ITUyu3SE6"
      },
      "source": [
        "#Bootstrap your data for comparing the mean of salary (Q10) for the two groups.\n",
        "#Note that the number of instances you sample from each group should be relative to its\n",
        "#size. Use 1000 replications. Plot two bootstrapped distributions (for males and females)\n",
        "#and the distribution of the difference in means.\n",
        "\n",
        "#It can be observed that the two histograms for male and female are both likely normally distributed.\n",
        "#The mean salary with highest frequency for male is still higher than female"
      ],
      "execution_count": null,
      "outputs": []
    },
    {
      "cell_type": "code",
      "metadata": {
        "id": "GIcleFTs5nU6",
        "outputId": "53de7383-caf3-4422-90df-29b236e2891b",
        "colab": {
          "base_uri": "https://localhost:8080/",
          "height": 300
        }
      },
      "source": [
        "occurance = []\n",
        "diff = []\n",
        "for i in range(1000):\n",
        "  occurance.append(dfs_male['Salary'].sample(int(dfs_male.shape[0]*0.1)).mean()) #10% of data every replication\n",
        "  diff.append(occurance[i]-dfs_male['Salary'].mean())\n",
        "mean_diff = sum(diff) / len(diff)\n",
        "sns.histplot(data=occurance)\n",
        "plt.xlabel('Mean Salary for male')"
      ],
      "execution_count": null,
      "outputs": [
        {
          "output_type": "execute_result",
          "data": {
            "text/plain": [
              "Text(0.5, 0, 'Mean Salary for male')"
            ]
          },
          "metadata": {
            "tags": []
          },
          "execution_count": 199
        },
        {
          "output_type": "display_data",
          "data": {
            "image/png": "[encoded data removed]",
            "text/plain": [
              "<Figure size 432x288 with 1 Axes>"
            ]
          },
          "metadata": {
            "tags": [],
            "needs_background": "light"
          }
        }
      ]
    },
    {
      "cell_type": "code",
      "metadata": {
        "id": "2vEulwqmB7NM",
        "outputId": "9b5f5b19-d3f1-4031-8a3e-4f176a9cfaa2",
        "colab": {
          "base_uri": "https://localhost:8080/",
          "height": 300
        }
      },
      "source": [
        "sns.histplot(data=diff)\n",
        "plt.xlabel('difference between mean salary of bootstrapped data and the entire dataset for male ')\n",
        "print('Mean differences for male:',mean_diff )"
      ],
      "execution_count": null,
      "outputs": [
        {
          "output_type": "stream",
          "text": [
            "Mean differences for male: -34.54548618264398\n"
          ],
          "name": "stdout"
        },
        {
          "output_type": "display_data",
          "data": {
            "image/png": "[encoded data removed]",
            "text/plain": [
              "<Figure size 432x288 with 1 Axes>"
            ]
          },
          "metadata": {
            "tags": [],
            "needs_background": "light"
          }
        }
      ]
    },
    {
      "cell_type": "code",
      "metadata": {
        "id": "8Tem_-JICGrD",
        "outputId": "cf28ffd7-c465-43cc-f88d-50f93ca0be0f",
        "colab": {
          "base_uri": "https://localhost:8080/",
          "height": 297
        }
      },
      "source": [
        "occurance = []\n",
        "diff = []\n",
        "for i in range(1000):\n",
        "  occurance.append(dfs_female['Salary'].sample(int(dfs_female.shape[0]*0.1)).mean()) #10% of data every replication\n",
        "  diff.append(occurance[i]-dfs_female['Salary'].mean())\n",
        "mean_diff = sum(diff) / len(diff)\n",
        "sns.histplot(data=occurance)\n",
        "plt.xlabel('Mean Salary for female')"
      ],
      "execution_count": null,
      "outputs": [
        {
          "output_type": "execute_result",
          "data": {
            "text/plain": [
              "Text(0.5, 0, 'Mean Salary for female')"
            ]
          },
          "metadata": {
            "tags": []
          },
          "execution_count": 201
        },
        {
          "output_type": "display_data",
          "data": {
            "image/png": "[encoded data removed]",
            "text/plain": [
              "<Figure size 432x288 with 1 Axes>"
            ]
          },
          "metadata": {
            "tags": [],
            "needs_background": "light"
          }
        }
      ]
    },
    {
      "cell_type": "code",
      "metadata": {
        "id": "DZJg7XRUCMcw",
        "outputId": "829ccd13-9cc9-4360-ebb3-c3b6a0d8eddc",
        "colab": {
          "base_uri": "https://localhost:8080/",
          "height": 297
        }
      },
      "source": [
        "sns.histplot(data=diff)\n",
        "plt.xlabel('difference between mean salary of bootstrapped data and the entire dataset for female ')\n",
        "print('Mean differences for female:',mean_diff )"
      ],
      "execution_count": null,
      "outputs": [
        {
          "output_type": "stream",
          "text": [
            "Mean differences for female: -164.669561281628\n"
          ],
          "name": "stdout"
        },
        {
          "output_type": "display_data",
          "data": {
            "image/png": "[encoded data removed]",
            "text/plain": [
              "<Figure size 432x288 with 1 Axes>"
            ]
          },
          "metadata": {
            "tags": [],
            "needs_background": "light"
          }
        }
      ]
    },
    {
      "cell_type": "code",
      "metadata": {
        "id": "lSImhA0dCbjO",
        "outputId": "94f16c81-786b-4188-bb21-5afa174a7230",
        "colab": {
          "base_uri": "https://localhost:8080/",
          "height": 54
        }
      },
      "source": [
        "#If suitable, perform a two-sample t-test with 0.05 threshold on the bootstrapped data. Explain your rationale\n",
        "#there are 10473 male data and only 1827 female data\n",
        "#So randomly select 1000 male samples and 1000 female samples and perform t test again\n",
        "#Although t values are smaller and p value is larger, the result still suggests the same as above.  \n",
        "t, p = stats.ttest_ind(dfs_male['Salary'].sample(1000) , dfs_female['Salary'].sample(1000))\n",
        "print('t value:{}\\np value:{}'.format(t,p))"
      ],
      "execution_count": null,
      "outputs": [
        {
          "output_type": "stream",
          "text": [
            "t value:3.8357338890694432\n",
            "p value:0.0001290724227133369\n"
          ],
          "name": "stdout"
        }
      ]
    },
    {
      "cell_type": "code",
      "metadata": {
        "id": "860jj1QHFrok"
      },
      "source": [
        "#Comment on your findings.\n",
        "#Please see above comments for my findings and comments"
      ],
      "execution_count": null,
      "outputs": []
    },
    {
      "cell_type": "markdown",
      "metadata": {
        "id": "fNSBBcDjFz-O"
      },
      "source": [
        "## **3.Select “highest level of formal education” (Q4) from the dataset and repeat steps a to e, this time use analysis of variance (ANOVA)**"
      ]
    },
    {
      "cell_type": "code",
      "metadata": {
        "id": "TMIJUkQhGP0d",
        "outputId": "a04db9a9-133c-4d8c-be23-056b0e233c27",
        "colab": {
          "base_uri": "https://localhost:8080/",
          "height": 563
        }
      },
      "source": [
        "df3 = df[['Q4','Q10']]\n",
        "df3 = df3.rename(columns = {'Q4':'education','Q10':'Salary'})\n",
        "dfs_b= df3.loc[df3['education'] == 'Bachelor’s degree']\n",
        "print('Bachelor\\n',dfs_b['Salary'].describe())\n",
        "dfs_m= df3.loc[df3['education'] == 'Master’s degree']\n",
        "print('Master\\n',dfs_m['Salary'].describe())\n",
        "dfs_d= df3.loc[df3['education'] == 'Doctoral degree']\n",
        "print('Doctoral\\n',dfs_d['Salary'].describe())\n"
      ],
      "execution_count": null,
      "outputs": [
        {
          "output_type": "stream",
          "text": [
            "Bachelor\n",
            " count      3361.000000\n",
            "mean      44999.256174\n",
            "std       67923.680798\n",
            "min        1000.000000\n",
            "25%        3000.000000\n",
            "50%       15000.000000\n",
            "75%       60000.000000\n",
            "max      500000.000000\n",
            "Name: Salary, dtype: float64\n",
            "Master\n",
            " count      5868.000000\n",
            "mean      58778.629857\n",
            "std       70265.728605\n",
            "min        1000.000000\n",
            "25%        7500.000000\n",
            "50%       40000.000000\n",
            "75%       80000.000000\n",
            "max      500000.000000\n",
            "Name: Salary, dtype: float64\n",
            "Doctoral\n",
            " count      2083.000000\n",
            "mean      75761.401824\n",
            "std       83376.717093\n",
            "min        1000.000000\n",
            "25%       15000.000000\n",
            "50%       60000.000000\n",
            "75%      100000.000000\n",
            "max      500000.000000\n",
            "Name: Salary, dtype: float64\n"
          ],
          "name": "stdout"
        }
      ]
    },
    {
      "cell_type": "code",
      "metadata": {
        "id": "KZrSOlaIJzK9",
        "outputId": "2fa0455d-6a10-4e7f-8f01-d31dd4a2a525",
        "colab": {
          "base_uri": "https://localhost:8080/",
          "height": 54
        }
      },
      "source": [
        "#If suitable, perform a two-sample t-test with 0.05 threshold. Explain your rationale.\n",
        "#First, apply one-way ANOVA directly on the dataset. \n",
        "#p value of 2.233668506153945e-51 indicates that there's nearly 0% probability that the test happened by chance\n",
        "#f value of 117.83927746561439 indicates that the two groups are very different\n",
        "#indicating that there is an significance which suggests that salaries are affected by education.\n",
        "from scipy.stats import f_oneway\n",
        "f, p = f_oneway(dfs_b['Salary'],dfs_m['Salary'],dfs_d['Salary'])\n",
        "print('f statistic :{}\\np value:{}'.format(f,p))"
      ],
      "execution_count": null,
      "outputs": [
        {
          "output_type": "stream",
          "text": [
            "f statistic :117.83927746561439\n",
            "p value:2.233668506153945e-51\n"
          ],
          "name": "stdout"
        }
      ]
    },
    {
      "cell_type": "code",
      "metadata": {
        "id": "SXtprF0LP4wq"
      },
      "source": [
        "#It can be observed that the 3 histograms for Bachelor, master and doctoral degree are likely normally distributed.\n",
        "#The mean salary with highest frequency for doctoral is highest, followed by master and bachelor"
      ],
      "execution_count": null,
      "outputs": []
    },
    {
      "cell_type": "code",
      "metadata": {
        "id": "6UGIcgqXOCZE",
        "outputId": "0421b8fe-f893-49e1-9538-6d3ba9ee00b4",
        "colab": {
          "base_uri": "https://localhost:8080/",
          "height": 297
        }
      },
      "source": [
        "occurance = []\n",
        "diff = []\n",
        "for i in range(1000):\n",
        "  occurance.append(dfs_b['Salary'].sample(int(dfs_b.shape[0]*0.1)).mean()) #10% of data every replication\n",
        "  diff.append(occurance[i]-dfs_b['Salary'].mean())\n",
        "mean_diff = sum(diff) / len(diff)\n",
        "sns.histplot(data=occurance)\n",
        "plt.xlabel('Mean Salary for Bachelor Degree')\n",
        "print('Mean differences for Bachelor Degree:',mean_diff)"
      ],
      "execution_count": null,
      "outputs": [
        {
          "output_type": "stream",
          "text": [
            "Mean differences for Bachelor Degree: 104.57269528981176\n"
          ],
          "name": "stdout"
        },
        {
          "output_type": "display_data",
          "data": {
            "image/png": "[encoded data removed]",
            "text/plain": [
              "<Figure size 432x288 with 1 Axes>"
            ]
          },
          "metadata": {
            "tags": [],
            "needs_background": "light"
          }
        }
      ]
    },
    {
      "cell_type": "code",
      "metadata": {
        "id": "NyZ32Qk9PYAl",
        "outputId": "17d748d0-3f23-4125-966d-8060b98d2c83",
        "colab": {
          "base_uri": "https://localhost:8080/",
          "height": 297
        }
      },
      "source": [
        "occurance = []\n",
        "diff = []\n",
        "for i in range(1000):\n",
        "  occurance.append(dfs_m['Salary'].sample(int(dfs_m.shape[0]*0.1)).mean()) #10% of data every replication\n",
        "  diff.append(occurance[i]-dfs_m['Salary'].mean())\n",
        "mean_diff = sum(diff) / len(diff)\n",
        "sns.histplot(data=occurance)\n",
        "plt.xlabel('Mean Salary for Master Degree')\n",
        "print('Mean differences for Master Degree:',mean_diff)"
      ],
      "execution_count": null,
      "outputs": [
        {
          "output_type": "stream",
          "text": [
            "Mean differences for Master Degree: 34.9614400776086\n"
          ],
          "name": "stdout"
        },
        {
          "output_type": "display_data",
          "data": {
            "image/png": "[encoded data removed]",
            "text/plain": [
              "<Figure size 432x288 with 1 Axes>"
            ]
          },
          "metadata": {
            "tags": [],
            "needs_background": "light"
          }
        }
      ]
    },
    {
      "cell_type": "code",
      "metadata": {
        "id": "PqD7jtYtPjDG",
        "outputId": "cc91d015-dbec-4031-de22-57dc485559b8",
        "colab": {
          "base_uri": "https://localhost:8080/",
          "height": 297
        }
      },
      "source": [
        "occurance = []\n",
        "diff = []\n",
        "for i in range(1000):\n",
        "  occurance.append(dfs_d['Salary'].sample(int(dfs_d.shape[0]*0.1)).mean()) #10% of data every replication\n",
        "  diff.append(occurance[i]-dfs_d['Salary'].mean())\n",
        "mean_diff = sum(diff) / len(diff)\n",
        "sns.histplot(data=occurance)\n",
        "plt.xlabel('Mean Salary for Doctoral Degree')\n",
        "print('Mean differences for Doctoral Degree:',mean_diff)"
      ],
      "execution_count": null,
      "outputs": [
        {
          "output_type": "stream",
          "text": [
            "Mean differences for Doctoral Degree: -133.33451659957507\n"
          ],
          "name": "stdout"
        },
        {
          "output_type": "display_data",
          "data": {
            "image/png": "[encoded data removed]",
            "text/plain": [
              "<Figure size 432x288 with 1 Axes>"
            ]
          },
          "metadata": {
            "tags": [],
            "needs_background": "light"
          }
        }
      ]
    },
    {
      "cell_type": "code",
      "metadata": {
        "id": "I4D4J3JqQJID",
        "outputId": "dd86e5ec-f016-4f84-867c-601f2224d0ce",
        "colab": {
          "base_uri": "https://localhost:8080/",
          "height": 54
        }
      },
      "source": [
        "#Although f value is smaller and p value is larger, the result still suggests the same as above.  \n",
        "#which is that there is a significance of difference between salaries between different degrees earned\n",
        "\n",
        "f, p = f_oneway(dfs_b['Salary'].sample(int(dfs_b.shape[0]*0.1)),dfs_m['Salary'].sample(int(dfs_m.shape[0]*0.1)),dfs_d['Salary'].sample(int(dfs_d.shape[0]*0.1)))\n",
        "print('f statistic :{}\\np value:{}'.format(f,p))"
      ],
      "execution_count": null,
      "outputs": [
        {
          "output_type": "stream",
          "text": [
            "f statistic :8.608928778262186\n",
            "p value:0.00019474314135614634\n"
          ],
          "name": "stdout"
        }
      ]
    }
  ]
}